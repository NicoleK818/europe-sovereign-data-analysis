{
  "nbformat": 4,
  "nbformat_minor": 0,
  "metadata": {
    "colab": {
      "provenance": [],
      "collapsed_sections": []
    },
    "kernelspec": {
      "name": "python3",
      "display_name": "Python 3"
    },
    "language_info": {
      "name": "python"
    }
  },
  "cells": [
    {
      "cell_type": "markdown",
      "source": [
        "Solve the following two exercises using BeautifulSoup and Pandas. Please add more code cells as desired."
      ],
      "metadata": {
        "id": "dwMqdgEd-Fyn"
      }
    },
    {
      "cell_type": "markdown",
      "source": [
        "### Exercise 1\n",
        "Scrape the page ``inpirational.html`` and provide the following information:\n",
        "\n",
        "1. list the quotes by \"Albert Einstein\", as well as the tags assigned to them\n",
        "2. list all the quotes tagged with \"love\"\n",
        "3. list all authors of quotes tagged as \"inspirational\"\n",
        "\n",
        "** You do not need to go through pagination. The first page suffices."
      ],
      "metadata": {
        "id": "-NfKh_fK9zeK"
      }
    },
    {
      "cell_type": "code",
      "source": [],
      "metadata": {
        "id": "RpkV2IjC94Dd"
      },
      "execution_count": null,
      "outputs": []
    },
    {
      "cell_type": "markdown",
      "source": [
        "### Exercise 2\n",
        "Scrape the page ``ScrapeBooks.html`` and provide the code for the following:\n",
        "1. List the title and price of all books with 1 or 2 stars\n",
        "2. Create a boxplot with the distribution of prices of the books displayed in the first page\n",
        "3. Create a scatterplot considering \"number of stars\" vs \"price\"\n",
        "4. Compare the prices of those books with 1 or 2 stars and those with 3 or more using Mann-Whitney\n"
      ],
      "metadata": {
        "id": "IaCIKFCf94ZM"
      }
    }
  ]
}